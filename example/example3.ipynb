{
 "cells": [
  {
   "cell_type": "code",
   "execution_count": 2,
   "metadata": {},
   "outputs": [
    {
     "ename": "SyntaxError",
     "evalue": "invalid syntax (1033139186.py, line 2)",
     "output_type": "error",
     "traceback": [
      "\u001b[0;36m  Cell \u001b[0;32mIn[2], line 2\u001b[0;36m\u001b[0m\n\u001b[0;31m    from ../hytraj import HyTraj\u001b[0m\n\u001b[0m           ^\u001b[0m\n\u001b[0;31mSyntaxError\u001b[0m\u001b[0;31m:\u001b[0m invalid syntax\n"
     ]
    }
   ],
   "source": [
    "# from init import *\n",
    "from hytraj import HyTraj\n",
    "from shutil import copyfile, copy2, rmtree"
   ]
  },
  {
   "cell_type": "code",
   "execution_count": null,
   "metadata": {},
   "outputs": [],
   "source": [
    "%watermark -n -u -v -iv -w"
   ]
  },
  {
   "cell_type": "code",
   "execution_count": null,
   "metadata": {},
   "outputs": [],
   "source": [
    "height = 500\n",
    "run_time = -120\n",
    "stations = {\n",
    "    \"Davis\": (-69, 78),\n",
    "    \"South Pole\": (-90, 335),\n",
    "    \"Neumayer\": (-71, 352),\n",
    "    \"Marambio\": (-64, 303),\n",
    "    \"Maitri\": (-70, 11),\n",
    "}"
   ]
  },
  {
   "cell_type": "code",
   "execution_count": null,
   "metadata": {},
   "outputs": [],
   "source": [
    "met_type = \"ncep\"\n",
    "metdir = \"/home/pankaj/Desktop/met/\"\n",
    "outdir = \"/home/pankaj/Desktop/out/\"\n",
    "working = \"/home/pankaj/phd/code/hytraj/working/\""
   ]
  },
  {
   "cell_type": "code",
   "execution_count": null,
   "metadata": {},
   "outputs": [],
   "source": [
    "dates = pd.date_range(\"2010-02-01\", freq=\"24H\", end=\"2010-02-10\")\n",
    "hy = HyTraj(stations, height, run_time, working, metdir, outdir, met_type)\n",
    "data = hy.run(dates, njobs=7)\n",
    "data"
   ]
  },
  {
   "cell_type": "code",
   "execution_count": null,
   "metadata": {},
   "outputs": [],
   "source": [
    "hy.plot(\n",
    "    data[\"Neumayer\"],\n",
    "    vertical=\"alt\",\n",
    "    show=False,\n",
    ")\n",
    "plt.savefig(\"/home/pankaj/phd/code/hytraj/ex.png\", bbox_inches=\"tight\")\n",
    "plt.show()"
   ]
  }
 ],
 "metadata": {
  "kernelspec": {
   "display_name": "Python 3 (ipykernel)",
   "language": "python",
   "name": "python3"
  },
  "language_info": {
   "codemirror_mode": {
    "name": "ipython",
    "version": 3
   },
   "file_extension": ".py",
   "mimetype": "text/x-python",
   "name": "python",
   "nbconvert_exporter": "python",
   "pygments_lexer": "ipython3",
   "version": "3.10.14"
  }
 },
 "nbformat": 4,
 "nbformat_minor": 4
}
